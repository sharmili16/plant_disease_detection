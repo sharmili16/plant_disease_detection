{
 "cells": [
  {
   "cell_type": "code",
   "execution_count": 1,
   "id": "05b9f844",
   "metadata": {
    "_cell_guid": "b1076dfc-b9ad-4769-8c92-a6c4dae69d19",
    "_uuid": "8f2839f25d086af736a60e9eeb907d3b93b6e0e5",
    "execution": {
     "iopub.execute_input": "2022-01-21T10:19:30.240800Z",
     "iopub.status.busy": "2022-01-21T10:19:30.240007Z",
     "iopub.status.idle": "2022-01-21T10:19:35.139181Z",
     "shell.execute_reply": "2022-01-21T10:19:35.138543Z",
     "shell.execute_reply.started": "2022-01-21T08:06:30.440016Z"
    },
    "papermill": {
     "duration": 4.922754,
     "end_time": "2022-01-21T10:19:35.139334",
     "exception": false,
     "start_time": "2022-01-21T10:19:30.216580",
     "status": "completed"
    },
    "tags": []
   },
   "outputs": [],
   "source": [
    "import numpy as np\n",
    "import matplotlib.pyplot as plt\n",
    "import matplotlib.image as img\n",
    "import os\n",
    "import tensorflow as tf\n",
    "from tensorflow.keras.preprocessing.image import ImageDataGenerator\n",
    "from tensorflow.keras.applications import Xception\n",
    "from tensorflow.keras.layers import GlobalAveragePooling2D,Flatten,Dense"
   ]
  },
  {
   "cell_type": "code",
   "execution_count": 2,
   "id": "92db5be9",
   "metadata": {
    "execution": {
     "iopub.execute_input": "2022-01-21T10:19:35.162801Z",
     "iopub.status.busy": "2022-01-21T10:19:35.161469Z",
     "iopub.status.idle": "2022-01-21T10:20:03.671551Z",
     "shell.execute_reply": "2022-01-21T10:20:03.672144Z",
     "shell.execute_reply.started": "2022-01-21T08:06:35.754168Z"
    },
    "papermill": {
     "duration": 28.523831,
     "end_time": "2022-01-21T10:20:03.672337",
     "exception": false,
     "start_time": "2022-01-21T10:19:35.148506",
     "status": "completed"
    },
    "tags": []
   },
   "outputs": [
    {
     "name": "stdout",
     "output_type": "stream",
     "text": [
      "Found 36401 images belonging to 38 classes.\n",
      "Found 17904 images belonging to 38 classes.\n"
     ]
    }
   ],
   "source": [
    "\n",
    "DATASET_FOLDER = \"../input/plantvillage-dataset/color\"\n",
    "IMG_SIZE = (200,200)\n",
    "BATCH_SIZE = 64\n",
    "generator = ImageDataGenerator(\n",
    "    rescale = 1./255., \n",
    "    rotation_range = 40, \n",
    "    width_shift_range = 0.2, \n",
    "    height_shift_range = 0.2, \n",
    "    shear_range = 0.2, \n",
    "    zoom_range = 0.2,\n",
    "    horizontal_flip = True,\n",
    "    validation_split=0.33\n",
    ")\n",
    "\n",
    "train_dataset = generator.flow_from_directory(DATASET_FOLDER,subset=\"training\",target_size=IMG_SIZE,batch_size=64)\n",
    "test_dataset = generator.flow_from_directory(DATASET_FOLDER,subset=\"validation\",target_size=IMG_SIZE,batch_size=64)"
   ]
  },
  {
   "cell_type": "code",
   "execution_count": 3,
   "id": "b0e6fdd9",
   "metadata": {
    "execution": {
     "iopub.execute_input": "2022-01-21T10:20:03.698543Z",
     "iopub.status.busy": "2022-01-21T10:20:03.696972Z",
     "iopub.status.idle": "2022-01-21T10:20:03.700736Z",
     "shell.execute_reply": "2022-01-21T10:20:03.700114Z",
     "shell.execute_reply.started": "2022-01-21T08:07:15.725618Z"
    },
    "papermill": {
     "duration": 0.01889,
     "end_time": "2022-01-21T10:20:03.700873",
     "exception": false,
     "start_time": "2022-01-21T10:20:03.681983",
     "status": "completed"
    },
    "tags": []
   },
   "outputs": [
    {
     "name": "stdout",
     "output_type": "stream",
     "text": [
      "Indices and Corresponsing Labels\n",
      "{0: 'Apple___Apple_scab', 1: 'Apple___Black_rot', 2: 'Apple___Cedar_apple_rust', 3: 'Apple___healthy', 4: 'Blueberry___healthy', 5: 'Cherry_(including_sour)___Powdery_mildew', 6: 'Cherry_(including_sour)___healthy', 7: 'Corn_(maize)___Cercospora_leaf_spot Gray_leaf_spot', 8: 'Corn_(maize)___Common_rust_', 9: 'Corn_(maize)___Northern_Leaf_Blight', 10: 'Corn_(maize)___healthy', 11: 'Grape___Black_rot', 12: 'Grape___Esca_(Black_Measles)', 13: 'Grape___Leaf_blight_(Isariopsis_Leaf_Spot)', 14: 'Grape___healthy', 15: 'Orange___Haunglongbing_(Citrus_greening)', 16: 'Peach___Bacterial_spot', 17: 'Peach___healthy', 18: 'Pepper,_bell___Bacterial_spot', 19: 'Pepper,_bell___healthy', 20: 'Potato___Early_blight', 21: 'Potato___Late_blight', 22: 'Potato___healthy', 23: 'Raspberry___healthy', 24: 'Soybean___healthy', 25: 'Squash___Powdery_mildew', 26: 'Strawberry___Leaf_scorch', 27: 'Strawberry___healthy', 28: 'Tomato___Bacterial_spot', 29: 'Tomato___Early_blight', 30: 'Tomato___Late_blight', 31: 'Tomato___Leaf_Mold', 32: 'Tomato___Septoria_leaf_spot', 33: 'Tomato___Spider_mites Two-spotted_spider_mite', 34: 'Tomato___Target_Spot', 35: 'Tomato___Tomato_Yellow_Leaf_Curl_Virus', 36: 'Tomato___Tomato_mosaic_virus', 37: 'Tomato___healthy'}\n"
     ]
    }
   ],
   "source": [
    "labels = {v:k for k,v in train_dataset.class_indices.items() }\n",
    "print(\"Indices and Corresponsing Labels\")\n",
    "print(labels)"
   ]
  },
  {
   "cell_type": "code",
   "execution_count": 4,
   "id": "6266e056",
   "metadata": {
    "execution": {
     "iopub.execute_input": "2022-01-21T10:20:03.725453Z",
     "iopub.status.busy": "2022-01-21T10:20:03.724758Z",
     "iopub.status.idle": "2022-01-21T10:20:03.727194Z",
     "shell.execute_reply": "2022-01-21T10:20:03.726805Z",
     "shell.execute_reply.started": "2022-01-21T08:07:15.734082Z"
    },
    "papermill": {
     "duration": 0.016628,
     "end_time": "2022-01-21T10:20:03.727294",
     "exception": false,
     "start_time": "2022-01-21T10:20:03.710666",
     "status": "completed"
    },
    "tags": []
   },
   "outputs": [],
   "source": [
    "def build_model():\n",
    "    input_layer = tf.keras.Input(shape=(200,200,3)) \n",
    "    model = Xception(\n",
    "        include_top=False,\n",
    "        weights=\"imagenet\",\n",
    "        input_shape=(200,200,3),\n",
    "        pooling=\"max\"\n",
    "    )\n",
    "    model.trainable=False\n",
    "    model = model(input_layer)\n",
    "    flatten_layer = Flatten()(model)\n",
    "    output_layer = Dense(38,activation=\"softmax\")(flatten_layer)\n",
    "    model = tf.keras.Model(input_layer,output_layer)\n",
    "    model.compile(\n",
    "    loss=\"categorical_crossentropy\",\n",
    "    optimizer=\"adam\",\n",
    "    metrics=[\"categorical_accuracy\"]\n",
    "        ,)\n",
    "    model.summary()\n",
    "    return model"
   ]
  },
  {
   "cell_type": "code",
   "execution_count": 5,
   "id": "44ac4017",
   "metadata": {
    "execution": {
     "iopub.execute_input": "2022-01-21T10:20:03.748125Z",
     "iopub.status.busy": "2022-01-21T10:20:03.747568Z",
     "iopub.status.idle": "2022-01-21T10:20:08.036866Z",
     "shell.execute_reply": "2022-01-21T10:20:08.038012Z",
     "shell.execute_reply.started": "2022-01-21T08:07:15.745774Z"
    },
    "papermill": {
     "duration": 4.302272,
     "end_time": "2022-01-21T10:20:08.038215",
     "exception": false,
     "start_time": "2022-01-21T10:20:03.735943",
     "status": "completed"
    },
    "tags": []
   },
   "outputs": [
    {
     "name": "stderr",
     "output_type": "stream",
     "text": [
      "2022-01-21 10:20:03.834812: I tensorflow/stream_executor/cuda/cuda_gpu_executor.cc:937] successful NUMA node read from SysFS had negative value (-1), but there must be at least one NUMA node, so returning NUMA node zero\n",
      "2022-01-21 10:20:03.944071: I tensorflow/stream_executor/cuda/cuda_gpu_executor.cc:937] successful NUMA node read from SysFS had negative value (-1), but there must be at least one NUMA node, so returning NUMA node zero\n",
      "2022-01-21 10:20:03.944758: I tensorflow/stream_executor/cuda/cuda_gpu_executor.cc:937] successful NUMA node read from SysFS had negative value (-1), but there must be at least one NUMA node, so returning NUMA node zero\n",
      "2022-01-21 10:20:03.945941: I tensorflow/core/platform/cpu_feature_guard.cc:142] This TensorFlow binary is optimized with oneAPI Deep Neural Network Library (oneDNN) to use the following CPU instructions in performance-critical operations:  AVX2 AVX512F FMA\n",
      "To enable them in other operations, rebuild TensorFlow with the appropriate compiler flags.\n",
      "2022-01-21 10:20:03.946968: I tensorflow/stream_executor/cuda/cuda_gpu_executor.cc:937] successful NUMA node read from SysFS had negative value (-1), but there must be at least one NUMA node, so returning NUMA node zero\n",
      "2022-01-21 10:20:03.947595: I tensorflow/stream_executor/cuda/cuda_gpu_executor.cc:937] successful NUMA node read from SysFS had negative value (-1), but there must be at least one NUMA node, so returning NUMA node zero\n",
      "2022-01-21 10:20:03.948257: I tensorflow/stream_executor/cuda/cuda_gpu_executor.cc:937] successful NUMA node read from SysFS had negative value (-1), but there must be at least one NUMA node, so returning NUMA node zero\n",
      "2022-01-21 10:20:05.829781: I tensorflow/stream_executor/cuda/cuda_gpu_executor.cc:937] successful NUMA node read from SysFS had negative value (-1), but there must be at least one NUMA node, so returning NUMA node zero\n",
      "2022-01-21 10:20:05.830537: I tensorflow/stream_executor/cuda/cuda_gpu_executor.cc:937] successful NUMA node read from SysFS had negative value (-1), but there must be at least one NUMA node, so returning NUMA node zero\n",
      "2022-01-21 10:20:05.831212: I tensorflow/stream_executor/cuda/cuda_gpu_executor.cc:937] successful NUMA node read from SysFS had negative value (-1), but there must be at least one NUMA node, so returning NUMA node zero\n",
      "2022-01-21 10:20:05.831810: I tensorflow/core/common_runtime/gpu/gpu_device.cc:1510] Created device /job:localhost/replica:0/task:0/device:GPU:0 with 15403 MB memory:  -> device: 0, name: Tesla P100-PCIE-16GB, pci bus id: 0000:00:04.0, compute capability: 6.0\n"
     ]
    },
    {
     "name": "stdout",
     "output_type": "stream",
     "text": [
      "Downloading data from https://storage.googleapis.com/tensorflow/keras-applications/xception/xception_weights_tf_dim_ordering_tf_kernels_notop.h5\n",
      "83689472/83683744 [==============================] - 0s 0us/step\n",
      "83697664/83683744 [==============================] - 0s 0us/step\n",
      "Model: \"model\"\n",
      "_________________________________________________________________\n",
      "Layer (type)                 Output Shape              Param #   \n",
      "=================================================================\n",
      "input_1 (InputLayer)         [(None, 200, 200, 3)]     0         \n",
      "_________________________________________________________________\n",
      "xception (Functional)        (None, 2048)              20861480  \n",
      "_________________________________________________________________\n",
      "flatten (Flatten)            (None, 2048)              0         \n",
      "_________________________________________________________________\n",
      "dense (Dense)                (None, 38)                77862     \n",
      "=================================================================\n",
      "Total params: 20,939,342\n",
      "Trainable params: 77,862\n",
      "Non-trainable params: 20,861,480\n",
      "_________________________________________________________________\n"
     ]
    }
   ],
   "source": [
    "model = build_model()"
   ]
  },
  {
   "cell_type": "code",
   "execution_count": 6,
   "id": "6af72b2e",
   "metadata": {
    "execution": {
     "iopub.execute_input": "2022-01-21T10:20:08.070043Z",
     "iopub.status.busy": "2022-01-21T10:20:08.069300Z",
     "iopub.status.idle": "2022-01-21T11:57:28.938920Z",
     "shell.execute_reply": "2022-01-21T11:57:28.938412Z",
     "shell.execute_reply.started": "2022-01-21T08:07:20.495628Z"
    },
    "papermill": {
     "duration": 5840.887127,
     "end_time": "2022-01-21T11:57:28.939071",
     "exception": false,
     "start_time": "2022-01-21T10:20:08.051944",
     "status": "completed"
    },
    "tags": []
   },
   "outputs": [
    {
     "name": "stderr",
     "output_type": "stream",
     "text": [
      "2022-01-21 10:20:09.060713: I tensorflow/compiler/mlir/mlir_graph_optimization_pass.cc:185] None of the MLIR Optimization Passes are enabled (registered 2)\n"
     ]
    },
    {
     "name": "stdout",
     "output_type": "stream",
     "text": [
      "Epoch 1/10\n"
     ]
    },
    {
     "name": "stderr",
     "output_type": "stream",
     "text": [
      "2022-01-21 10:20:13.017121: I tensorflow/stream_executor/cuda/cuda_dnn.cc:369] Loaded cuDNN version 8005\n"
     ]
    },
    {
     "name": "stdout",
     "output_type": "stream",
     "text": [
      "569/569 [==============================] - 788s 1s/step - loss: 0.8744 - categorical_accuracy: 0.7486 - val_loss: 0.5330 - val_categorical_accuracy: 0.8363\n",
      "Epoch 2/10\n",
      "569/569 [==============================] - 554s 974ms/step - loss: 0.4942 - categorical_accuracy: 0.8465 - val_loss: 0.4388 - val_categorical_accuracy: 0.8637\n",
      "Epoch 3/10\n",
      "569/569 [==============================] - 557s 979ms/step - loss: 0.4213 - categorical_accuracy: 0.8667 - val_loss: 0.4397 - val_categorical_accuracy: 0.8647\n",
      "Epoch 4/10\n",
      "569/569 [==============================] - 554s 973ms/step - loss: 0.3994 - categorical_accuracy: 0.8740 - val_loss: 0.4021 - val_categorical_accuracy: 0.8739\n",
      "Epoch 5/10\n",
      "569/569 [==============================] - 554s 975ms/step - loss: 0.3699 - categorical_accuracy: 0.8829 - val_loss: 0.3939 - val_categorical_accuracy: 0.8775\n",
      "Epoch 6/10\n",
      "569/569 [==============================] - 555s 975ms/step - loss: 0.3598 - categorical_accuracy: 0.8862 - val_loss: 0.3811 - val_categorical_accuracy: 0.8831\n",
      "Epoch 7/10\n",
      "569/569 [==============================] - 556s 978ms/step - loss: 0.3492 - categorical_accuracy: 0.8898 - val_loss: 0.3833 - val_categorical_accuracy: 0.8804\n",
      "Epoch 8/10\n",
      "569/569 [==============================] - 560s 983ms/step - loss: 0.3376 - categorical_accuracy: 0.8945 - val_loss: 0.3770 - val_categorical_accuracy: 0.8827\n",
      "Epoch 9/10\n",
      "569/569 [==============================] - 561s 986ms/step - loss: 0.3267 - categorical_accuracy: 0.8968 - val_loss: 0.3746 - val_categorical_accuracy: 0.8883\n",
      "Epoch 10/10\n",
      "569/569 [==============================] - 558s 980ms/step - loss: 0.3199 - categorical_accuracy: 0.8996 - val_loss: 0.3888 - val_categorical_accuracy: 0.8830\n"
     ]
    }
   ],
   "source": [
    "history = model.fit(train_dataset,epochs=10,validation_data=test_dataset,batch_size=BATCH_SIZE)"
   ]
  },
  {
   "cell_type": "code",
   "execution_count": 7,
   "id": "9a70a255",
   "metadata": {
    "execution": {
     "iopub.execute_input": "2022-01-21T11:57:31.978003Z",
     "iopub.status.busy": "2022-01-21T11:57:31.977011Z",
     "iopub.status.idle": "2022-01-21T11:57:32.347828Z",
     "shell.execute_reply": "2022-01-21T11:57:32.348340Z",
     "shell.execute_reply.started": "2022-01-21T09:55:53.485686Z"
    },
    "papermill": {
     "duration": 1.867836,
     "end_time": "2022-01-21T11:57:32.348486",
     "exception": false,
     "start_time": "2022-01-21T11:57:30.480650",
     "status": "completed"
    },
    "tags": []
   },
   "outputs": [
    {
     "data": {
      "image/png": "[encoded data removed]",
      "text/plain": [
       "<Figure size 432x288 with 1 Axes>"
      ]
     },
     "metadata": {
      "needs_background": "light"
     },
     "output_type": "display_data"
    },
    {
     "data": {
      "image/png": "[encoded data removed]",
      "text/plain": [
       "<Figure size 432x288 with 1 Axes>"
      ]
     },
     "metadata": {
      "needs_background": "light"
     },
     "output_type": "display_data"
    }
   ],
   "source": [
    "# summarize history for accuracy\n",
    "plt.plot(history.history['categorical_accuracy'])\n",
    "plt.plot(history.history['val_categorical_accuracy'])\n",
    "plt.title('model accuracy')\n",
    "plt.ylabel('categorical_accuracy')\n",
    "plt.xlabel('epoch')\n",
    "plt.legend(['train', 'test'], loc='upper left')\n",
    "plt.show()\n",
    "# summarize history for loss\n",
    "plt.plot(history.history['loss'])\n",
    "plt.plot(history.history['val_loss'])\n",
    "plt.title('model loss')\n",
    "plt.ylabel('loss')\n",
    "plt.xlabel('epoch')\n",
    "plt.legend(['train', 'test'], loc='upper left')\n",
    "plt.show()"
   ]
  },
  {
   "cell_type": "markdown",
   "id": "40d3e62e",
   "metadata": {
    "papermill": {
     "duration": 1.494861,
     "end_time": "2022-01-21T11:57:35.347498",
     "exception": false,
     "start_time": "2022-01-21T11:57:33.852637",
     "status": "completed"
    },
    "tags": []
   },
   "source": []
  },
  {
   "cell_type": "code",
   "execution_count": 8,
   "id": "1ad71b24",
   "metadata": {
    "execution": {
     "iopub.execute_input": "2022-01-21T11:57:38.594793Z",
     "iopub.status.busy": "2022-01-21T11:57:38.593989Z",
     "iopub.status.idle": "2022-01-21T11:58:00.325831Z",
     "shell.execute_reply": "2022-01-21T11:58:00.325112Z",
     "shell.execute_reply.started": "2022-01-21T10:07:33.127632Z"
    },
    "papermill": {
     "duration": 23.482717,
     "end_time": "2022-01-21T11:58:00.326013",
     "exception": false,
     "start_time": "2022-01-21T11:57:36.843296",
     "status": "completed"
    },
    "tags": []
   },
   "outputs": [
    {
     "name": "stderr",
     "output_type": "stream",
     "text": [
      "2022-01-21 11:57:46.514987: W tensorflow/python/util/util.cc:348] Sets are not currently considered sequences, but this may change in the future, so consider avoiding using them.\n",
      "/opt/conda/lib/python3.7/site-packages/keras/utils/generic_utils.py:497: CustomMaskWarning: Custom mask layers require a config and must override get_config. When loading, the custom mask layer must be passed to the custom_objects argument.\n",
      "  category=CustomMaskWarning)\n"
     ]
    }
   ],
   "source": [
    "model.save(\"disease_prediction_model\")"
   ]
  },
  {
   "cell_type": "code",
   "execution_count": 9,
   "id": "c6d77efa",
   "metadata": {
    "execution": {
     "iopub.execute_input": "2022-01-21T11:58:03.359602Z",
     "iopub.status.busy": "2022-01-21T11:58:03.359039Z",
     "iopub.status.idle": "2022-01-21T11:58:07.522485Z",
     "shell.execute_reply": "2022-01-21T11:58:07.523118Z",
     "shell.execute_reply.started": "2022-01-21T10:14:36.397599Z"
    },
    "papermill": {
     "duration": 5.665607,
     "end_time": "2022-01-21T11:58:07.523273",
     "exception": false,
     "start_time": "2022-01-21T11:58:01.857666",
     "status": "completed"
    },
    "tags": []
   },
   "outputs": [
    {
     "data": {
      "text/plain": [
       "'/kaggle/working/model.zip'"
      ]
     },
     "execution_count": 9,
     "metadata": {},
     "output_type": "execute_result"
    }
   ],
   "source": [
    "import shutil\n",
    "shutil.make_archive(\"model\", 'zip', \"disease_prediction_model\")"
   ]
  },
  {
   "cell_type": "code",
   "execution_count": null,
   "id": "08b165c5",
   "metadata": {
    "papermill": {
     "duration": 1.762934,
     "end_time": "2022-01-21T11:58:10.763359",
     "exception": false,
     "start_time": "2022-01-21T11:58:09.000425",
     "status": "completed"
    },
    "tags": []
   },
   "outputs": [],
   "source": []
  }
 ],
 "metadata": {
  "kernelspec": {
   "display_name": "Python 3",
   "language": "python",
   "name": "python3"
  },
  "language_info": {
   "codemirror_mode": {
    "name": "ipython",
    "version": 3
   },
   "file_extension": ".py",
   "mimetype": "text/x-python",
   "name": "python",
   "nbconvert_exporter": "python",
   "pygments_lexer": "ipython3",
   "version": "3.7.12"
  },
  "papermill": {
   "default_parameters": {},
   "duration": 5932.94692,
   "end_time": "2022-01-21T11:58:15.249460",
   "environment_variables": {},
   "exception": null,
   "input_path": "__notebook__.ipynb",
   "output_path": "__notebook__.ipynb",
   "parameters": {},
   "start_time": "2022-01-21T10:19:22.302540",
   "version": "2.3.3"
  }
 },
 "nbformat": 4,
 "nbformat_minor": 5
}
